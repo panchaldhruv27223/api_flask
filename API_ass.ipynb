{
 "cells": [
  {
   "cell_type": "markdown",
   "id": "ebea637c",
   "metadata": {},
   "source": [
    "Q1. What is an API? Give an example, where an API is used in real life."
   ]
  },
  {
   "cell_type": "code",
   "execution_count": null,
   "id": "4a6a3751",
   "metadata": {},
   "outputs": [],
   "source": [
    "API stands for application programing interface.\n",
    "api is like an intermideate. it is used for communicating between diff difff aplication , programns.\n",
    "it exchange the informatoin between diff diff software component.\n",
    "\n",
    "it take request from user(frot end) and go to the server(back end) and give response to the user.\n",
    "it is the best way of communication b/w any application or b/w website"
   ]
  },
  {
   "cell_type": "code",
   "execution_count": null,
   "id": "631b7933",
   "metadata": {},
   "outputs": [],
   "source": [
    "in google map, any payment application,resturent booking ,... we use apis.\n",
    "\n",
    "any request from front end to backend, for use any functionality of application or any web we have to pass api."
   ]
  },
  {
   "cell_type": "markdown",
   "id": "da11ef58",
   "metadata": {},
   "source": [
    "Q2. Give advantages and disadvantages of using API."
   ]
  },
  {
   "cell_type": "code",
   "execution_count": null,
   "id": "e8e9d07a",
   "metadata": {},
   "outputs": [],
   "source": [
    "advantages :\n",
    "    better user expireance.\n",
    "    more interactual.\n",
    "    stability\n",
    "    flexibility\n",
    "    speed\n",
    "    \n",
    "disadvantages :\n",
    "    security concern\n",
    "    compatability\n",
    "    complexity\n",
    "    costly\n",
    "    time consuming"
   ]
  },
  {
   "cell_type": "markdown",
   "id": "72a3d67d",
   "metadata": {},
   "source": [
    "Q3. What is a Web API? Differentiate between API and Web API."
   ]
  },
  {
   "cell_type": "code",
   "execution_count": null,
   "id": "1121e4fe",
   "metadata": {},
   "outputs": [],
   "source": [
    "web api :\n",
    "    web api it is a api as the name suggests. it based on web. it is use http protocol.\n",
    "    web api is limited on web.\n",
    "    \n",
    "    web api is used when like we have a application which is deployed on a distributed network. ok\n",
    "    we want to use the application on diff diff device like phone , laptop,...\n",
    "    in this type of situation we use web api.\n",
    "    web api is enhanced from web application.\n",
    "    \n",
    "\n",
    "web api is a sub class of api.\n",
    "api is way to communicate between two application\n",
    "we api as the name suggest it communicate between two application over a web."
   ]
  },
  {
   "cell_type": "markdown",
   "id": "f4b0e774",
   "metadata": {},
   "source": [
    "Q4. Explain REST and SOAP Architecture. Mention shortcomings of SOAP."
   ]
  },
  {
   "cell_type": "code",
   "execution_count": null,
   "id": "51c21e57",
   "metadata": {},
   "outputs": [],
   "source": [
    "SOAP: \n",
    "    soap stands for simple object access protocol.\n",
    "    soap follow a strict standers to communicate and for transforing data.\n",
    "    soap follow a xml formate for transforing data, it use wsdl.\n",
    "    it work with application protocol like http , smtp ,tcp/ip.\n",
    "    soap is defecult to implement.\n",
    "    it give a grate security.\n",
    "    soap mainly used for web services and application programming interface.\n",
    "    soap use ssl :- secure socket layer."
   ]
  },
  {
   "cell_type": "code",
   "execution_count": null,
   "id": "0f0db8ad",
   "metadata": {},
   "outputs": [],
   "source": [
    "REST:\n",
    "    RESET stands for REpresentational State Transfer.\n",
    "    rest not have strict standers.\n",
    "    rest architecture give the web service is know as restfull services.\n",
    "    rest architecture use http for data transfer.\n",
    "    rest work with post, get, put, delete.\n",
    "    comparetive it is easy to implement.\n",
    "    it is less secure to soap.\n",
    "    it use ssl and http.\n",
    "    it is a stateless"
   ]
  },
  {
   "cell_type": "code",
   "execution_count": null,
   "id": "e94d8eff",
   "metadata": {},
   "outputs": [],
   "source": [
    "shortcoming of soap :\n",
    "    it is complex.\n",
    "    no variety of data formate.\n",
    "    api calls are not cachaed.\n",
    "    use more bandwith."
   ]
  },
  {
   "cell_type": "markdown",
   "id": "2cd7e125",
   "metadata": {},
   "source": [
    "Q5. Differentiate between REST and SOAP."
   ]
  },
  {
   "cell_type": "code",
   "execution_count": null,
   "id": "d8276715",
   "metadata": {},
   "outputs": [],
   "source": [
    "rest :\n",
    "    rest not have strict standers.\n",
    "    comparetive it is easy to implement.\n",
    "    it is less secure to soap.\n",
    "    it use ssl and http.\n",
    "    rest work with post, get, put, delete.\n",
    "    it is stateless\n",
    "    \n",
    "soap :\n",
    "    soap follow a strict standers to communicate and for transforing data.\n",
    "    soap is defecult to implement.\n",
    "    it give a grate security.\n",
    "    soap mainly used for web services and application programming interface.\n",
    "    soap use ssl :- secure socket layer.\n",
    "    it work with application protocol like http , smtp ,tcp/ip."
   ]
  }
 ],
 "metadata": {
  "kernelspec": {
   "display_name": "Python 3 (ipykernel)",
   "language": "python",
   "name": "python3"
  },
  "language_info": {
   "codemirror_mode": {
    "name": "ipython",
    "version": 3
   },
   "file_extension": ".py",
   "mimetype": "text/x-python",
   "name": "python",
   "nbconvert_exporter": "python",
   "pygments_lexer": "ipython3",
   "version": "3.9.7"
  }
 },
 "nbformat": 4,
 "nbformat_minor": 5
}
